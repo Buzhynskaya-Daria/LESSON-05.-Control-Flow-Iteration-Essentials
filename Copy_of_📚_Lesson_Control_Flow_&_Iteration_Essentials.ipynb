{
  "cells": [
    {
      "cell_type": "markdown",
      "metadata": {
        "id": "view-in-github",
        "colab_type": "text"
      },
      "source": [
        "<a href=\"https://colab.research.google.com/github/Buzhynskaya-Daria/LESSON-05.-Control-Flow-Iteration-Essentials/blob/main/Copy_of_%F0%9F%93%9A_Lesson_Control_Flow_%26_Iteration_Essentials.ipynb\" target=\"_parent\"><img src=\"https://colab.research.google.com/assets/colab-badge.svg\" alt=\"Open In Colab\"/></a>"
      ]
    },
    {
      "cell_type": "markdown",
      "metadata": {
        "id": "3E2D_PWb6BdA"
      },
      "source": [
        "<div>\n",
        "<img src=\"https://coursereport-s3-production.global.ssl.fastly.net/uploads/school/logo/219/original/CT_LOGO_NEW.jpg\" width=60>\n",
        "</div>\n",
        "\n",
        "#  **Control Flow & Iteration Essentials**\n",
        "\n",
        "*Be sure to be following along with the lesson page before progressing in this notebook!*"
      ]
    },
    {
      "cell_type": "markdown",
      "source": [
        "## **🛝 Practice Playground** - Section 1\n",
        "In programming, conditionals and control flow are fundamental concepts that enable decision-making within your code. This section will introduce you to the use of if, elif, and else statements in Python, which allow your programs to execute different blocks of code based on certain conditions."
      ],
      "metadata": {
        "id": "YOUiHU27y0mn"
      }
    },
    {
      "cell_type": "code",
      "execution_count": 1,
      "metadata": {
        "id": "ZvzqVRb86BdP",
        "colab": {
          "base_uri": "https://localhost:8080/"
        },
        "outputId": "afa12e74-32ca-4bc7-e6dd-60baa92dd83f"
      },
      "outputs": [
        {
          "output_type": "stream",
          "name": "stdout",
          "text": [
            "x is greater than 5\n"
          ]
        }
      ],
      "source": [
        "# Run this cell!\n",
        "\n",
        "x = 10\n",
        "if x > 5:\n",
        "    print(\"x is greater than 5\")"
      ]
    },
    {
      "cell_type": "code",
      "execution_count": 2,
      "metadata": {
        "id": "YbetqlU_6BdP",
        "colab": {
          "base_uri": "https://localhost:8080/"
        },
        "outputId": "f90aaf0e-ae77-49fb-fdcc-c05b3825ba62"
      },
      "outputs": [
        {
          "output_type": "stream",
          "name": "stdout",
          "text": [
            "adult\n"
          ]
        }
      ],
      "source": [
        "# Run this cell!\n",
        "\n",
        "age = 20\n",
        "if age < 13:\n",
        "    print(\"child\")\n",
        "elif age < 20:\n",
        "    print(\"teenager\")\n",
        "else:\n",
        "    print(\"adult\")"
      ]
    },
    {
      "cell_type": "code",
      "source": [
        "# Run this cell!\n",
        "\n",
        "a = 15\n",
        "if a > 10 and a < 20:\n",
        "    print(\"a is between 10 and 20\")"
      ],
      "metadata": {
        "id": "COZbkLYTs56N",
        "colab": {
          "base_uri": "https://localhost:8080/"
        },
        "outputId": "a077e89c-6958-48b6-8dcb-7f935aafc9c1"
      },
      "execution_count": 3,
      "outputs": [
        {
          "output_type": "stream",
          "name": "stdout",
          "text": [
            "a is between 10 and 20\n"
          ]
        }
      ]
    },
    {
      "cell_type": "code",
      "source": [
        "# Run this cell!\n",
        "\n",
        "a = 25\n",
        "if a > 10 and a < 20:\n",
        "    print(\"a is between 10 and 20\")"
      ],
      "metadata": {
        "id": "nqyQ50bQtpuW"
      },
      "execution_count": 4,
      "outputs": []
    },
    {
      "cell_type": "markdown",
      "source": [
        "## **🛝 Practice Playground** - Section 2\n",
        "For loops in Python are used for iterating over a sequence (like a list, tuple, dictionary, set, or string), allowing you to execute a block of code repeatedly for each item in the sequence. This makes them incredibly useful for tasks that require repetitive actions with each element of an iterable."
      ],
      "metadata": {
        "id": "ymC_eEixVkuW"
      }
    },
    {
      "cell_type": "code",
      "source": [
        "# Run this cell!\n",
        "\n",
        "fruits = [\"apple\", \"banana\", \"cherry\"]\n",
        "for fruit in fruits:\n",
        "    print(fruit)"
      ],
      "metadata": {
        "id": "i871jVSQtfuw",
        "colab": {
          "base_uri": "https://localhost:8080/"
        },
        "outputId": "48e9c156-f0ca-4d7e-d936-d326f9e434cd"
      },
      "execution_count": 5,
      "outputs": [
        {
          "output_type": "stream",
          "name": "stdout",
          "text": [
            "apple\n",
            "banana\n",
            "cherry\n"
          ]
        }
      ]
    },
    {
      "cell_type": "code",
      "source": [
        "# Run this cell!\n",
        "\n",
        "for char in \"banana\":\n",
        "    print(char)"
      ],
      "metadata": {
        "id": "N6KpyYfBWEY5",
        "colab": {
          "base_uri": "https://localhost:8080/"
        },
        "outputId": "91b420ac-2c16-43be-ba05-79e6d26ad3b3"
      },
      "execution_count": 6,
      "outputs": [
        {
          "output_type": "stream",
          "name": "stdout",
          "text": [
            "b\n",
            "a\n",
            "n\n",
            "a\n",
            "n\n",
            "a\n"
          ]
        }
      ]
    },
    {
      "cell_type": "markdown",
      "source": [
        "## **🛝 Practice Playground** - Section 3\n",
        "For loops are incredibly useful for iterating over sequences."
      ],
      "metadata": {
        "id": "c6CWgHoz0u9r"
      }
    },
    {
      "cell_type": "code",
      "source": [
        "# Run this cell!\n",
        "\n",
        "sentence = \"I have always admired the scarlet macaws in the Amazon.\"\n",
        "count = 0\n",
        "for char in sentence:\n",
        "    if char == 'a':\n",
        "        count += 1\n",
        "print(f\"The letter 'a' appears {count} times.\")"
      ],
      "metadata": {
        "id": "6-YXKtt4qPXV",
        "colab": {
          "base_uri": "https://localhost:8080/"
        },
        "outputId": "38588416-2b1a-4aab-a2ab-6422d1de13eb"
      },
      "execution_count": 7,
      "outputs": [
        {
          "output_type": "stream",
          "name": "stdout",
          "text": [
            "The letter 'a' appears 8 times.\n"
          ]
        }
      ]
    },
    {
      "cell_type": "code",
      "source": [
        "# Run this cell!\n",
        "\n",
        "sentence = \"I have always admired the Scarlet macaws in the Amazon.\"\n",
        "count = 0\n",
        "for char in sentence.lower():  # Convert the sentence to lowercase\n",
        "    if char == 'a':\n",
        "        count += 1\n",
        "print(f\"The letter 'a' appears {count} times.\")"
      ],
      "metadata": {
        "id": "gwSnGGk7wVay",
        "colab": {
          "base_uri": "https://localhost:8080/"
        },
        "outputId": "557a8e73-52a2-424a-d819-fa5ed83d0e07"
      },
      "execution_count": 8,
      "outputs": [
        {
          "output_type": "stream",
          "name": "stdout",
          "text": [
            "The letter 'a' appears 9 times.\n"
          ]
        }
      ]
    },
    {
      "cell_type": "markdown",
      "source": [
        "---"
      ],
      "metadata": {
        "id": "ysRhcsKft27B"
      }
    },
    {
      "cell_type": "markdown",
      "metadata": {
        "id": "gqQArSbM6BdE"
      },
      "source": [
        "## **🛝 Practice Playground** - Section 4\n",
        "For loops can also be used to construct strings step-by-step, allowing for precise manipulation of each character. This can be useful for tasks like creating patterns or custom filters."
      ]
    },
    {
      "cell_type": "code",
      "source": [
        "# Run this cell!\n",
        "\n",
        "# Simple string\n",
        "message = \"Hello\"\n",
        "\n",
        "# Empty string to accumulate modified characters\n",
        "new_message = \"\"\n",
        "\n",
        "# Append each character twice to the new string\n",
        "for char in message:\n",
        "    new_message += char * 2\n",
        "\n",
        "# Display the modified string\n",
        "new_message"
      ],
      "metadata": {
        "id": "LholcXPzb-Yl",
        "colab": {
          "base_uri": "https://localhost:8080/",
          "height": 36
        },
        "outputId": "3ac4ec41-9ca6-45ad-bcc2-b9284f66904d"
      },
      "execution_count": 9,
      "outputs": [
        {
          "output_type": "execute_result",
          "data": {
            "text/plain": [
              "'HHeelllloo'"
            ],
            "application/vnd.google.colaboratory.intrinsic+json": {
              "type": "string"
            }
          },
          "metadata": {},
          "execution_count": 9
        }
      ]
    },
    {
      "cell_type": "code",
      "source": [
        "# Run this cell!\n",
        "\n",
        "# Define a string\n",
        "sentence = \"Hello world\"\n",
        "\n",
        "# Empty string to accumulate results\n",
        "new_sentence = \"\"\n",
        "\n",
        "# Replace vowels with underscores and keep consonants\n",
        "for char in sentence:\n",
        "    if char.lower() in 'aeiou':\n",
        "        new_sentence += '_'\n",
        "    else:\n",
        "        new_sentence += char\n",
        "\n",
        "# Display the new string\n",
        "new_sentence"
      ],
      "metadata": {
        "id": "jiaSzKv5hZey",
        "colab": {
          "base_uri": "https://localhost:8080/",
          "height": 36
        },
        "outputId": "b4f7561e-c8a8-4481-d122-41b1f3653453"
      },
      "execution_count": 10,
      "outputs": [
        {
          "output_type": "execute_result",
          "data": {
            "text/plain": [
              "'H_ll_ w_rld'"
            ],
            "application/vnd.google.colaboratory.intrinsic+json": {
              "type": "string"
            }
          },
          "metadata": {},
          "execution_count": 10
        }
      ]
    },
    {
      "cell_type": "markdown",
      "source": [
        "## **🛝 Practice Playground** - Section 5\n",
        "\n",
        "Dictionaries are incredibly versatile data structures in Python that store data in key-value pairs. This allows for efficient data retrieval by key, rather than by index as in lists or tuples."
      ],
      "metadata": {
        "id": "xcP6OwzZnd2s"
      }
    },
    {
      "cell_type": "code",
      "source": [
        "# Run this cell!\n",
        "\n",
        "# Original list of numbers\n",
        "numbers = [1, 2, 3, 4, 5]\n",
        "\n",
        "# Empty list to store doubled values\n",
        "doubled_numbers = []\n",
        "\n",
        "# Doubling each number and adding it to the new list\n",
        "for number in numbers:\n",
        "    doubled_numbers.append(number * 2)\n",
        "\n",
        "# Displaying the new list with doubled values\n",
        "doubled_numbers"
      ],
      "metadata": {
        "id": "fWeEjTMxnddR",
        "colab": {
          "base_uri": "https://localhost:8080/"
        },
        "outputId": "d6234ade-838c-4128-c44a-3e226df35f67"
      },
      "execution_count": 11,
      "outputs": [
        {
          "output_type": "execute_result",
          "data": {
            "text/plain": [
              "[2, 4, 6, 8, 10]"
            ]
          },
          "metadata": {},
          "execution_count": 11
        }
      ]
    },
    {
      "cell_type": "code",
      "source": [
        "# Run this cell!\n",
        "\n",
        "doubled_numbers = [number * 2 for number in numbers]\n",
        "\n",
        "doubled_numbers"
      ],
      "metadata": {
        "id": "Dx_K9bypf5hM",
        "colab": {
          "base_uri": "https://localhost:8080/"
        },
        "outputId": "6e80ff67-c9ed-4f58-e3c2-473c1fa020fc"
      },
      "execution_count": 12,
      "outputs": [
        {
          "output_type": "execute_result",
          "data": {
            "text/plain": [
              "[2, 4, 6, 8, 10]"
            ]
          },
          "metadata": {},
          "execution_count": 12
        }
      ]
    },
    {
      "cell_type": "markdown",
      "source": [
        "## **🛝 Practice Playground** - Section 6\n",
        "\n",
        "The range() function is often used with for loops to specify the number of iterations. The function generates a sequence of numbers, which can be used to repeat an action multiple times."
      ],
      "metadata": {
        "id": "Zg_VJ3ljxACX"
      }
    },
    {
      "cell_type": "code",
      "source": [
        "# Run this cell!\n",
        "\n",
        "for i in range(5):\n",
        "    print(\"I love Python!\")"
      ],
      "metadata": {
        "id": "nFuXzgbnxEMP",
        "colab": {
          "base_uri": "https://localhost:8080/"
        },
        "outputId": "4c2a1708-c217-487d-8941-17a277bea5ed"
      },
      "execution_count": 13,
      "outputs": [
        {
          "output_type": "stream",
          "name": "stdout",
          "text": [
            "I love Python!\n",
            "I love Python!\n",
            "I love Python!\n",
            "I love Python!\n",
            "I love Python!\n"
          ]
        }
      ]
    },
    {
      "cell_type": "code",
      "source": [
        "# Run this cell!\n",
        "\n",
        "for i in range(4):\n",
        "    print(i)"
      ],
      "metadata": {
        "id": "UbNwPqcpxE-6",
        "colab": {
          "base_uri": "https://localhost:8080/"
        },
        "outputId": "1850772b-5d3e-42fb-e917-fab58399a10f"
      },
      "execution_count": 14,
      "outputs": [
        {
          "output_type": "stream",
          "name": "stdout",
          "text": [
            "0\n",
            "1\n",
            "2\n",
            "3\n"
          ]
        }
      ]
    },
    {
      "cell_type": "code",
      "source": [
        "# Run this cell!\n",
        "\n",
        "for i in range(3, 7):\n",
        "    print(i)"
      ],
      "metadata": {
        "id": "AzkHOmHbxE9G",
        "colab": {
          "base_uri": "https://localhost:8080/"
        },
        "outputId": "de4093be-577b-4e8d-82c8-3158534f3efe"
      },
      "execution_count": 15,
      "outputs": [
        {
          "output_type": "stream",
          "name": "stdout",
          "text": [
            "3\n",
            "4\n",
            "5\n",
            "6\n"
          ]
        }
      ]
    },
    {
      "cell_type": "code",
      "source": [
        "# Run this cell!\n",
        "\n",
        "for i in range(1, 10, 2):\n",
        "    print(i)"
      ],
      "metadata": {
        "id": "Pl9tTi6dxE7J",
        "colab": {
          "base_uri": "https://localhost:8080/"
        },
        "outputId": "20adc3ba-5d79-440d-d33d-4354c4dade07"
      },
      "execution_count": 16,
      "outputs": [
        {
          "output_type": "stream",
          "name": "stdout",
          "text": [
            "1\n",
            "3\n",
            "5\n",
            "7\n",
            "9\n"
          ]
        }
      ]
    },
    {
      "cell_type": "code",
      "source": [
        "# Run this cell!\n",
        "\n",
        "for x in range(3):\n",
        "    for y in range(3,6):\n",
        "        print(f\"Coordinate: ({x}, {y})\")"
      ],
      "metadata": {
        "id": "HeVIk76lxE5T",
        "colab": {
          "base_uri": "https://localhost:8080/"
        },
        "outputId": "7256934b-baad-40d6-f113-4dea4c091bde"
      },
      "execution_count": 17,
      "outputs": [
        {
          "output_type": "stream",
          "name": "stdout",
          "text": [
            "Coordinate: (0, 3)\n",
            "Coordinate: (0, 4)\n",
            "Coordinate: (0, 5)\n",
            "Coordinate: (1, 3)\n",
            "Coordinate: (1, 4)\n",
            "Coordinate: (1, 5)\n",
            "Coordinate: (2, 3)\n",
            "Coordinate: (2, 4)\n",
            "Coordinate: (2, 5)\n"
          ]
        }
      ]
    },
    {
      "cell_type": "code",
      "source": [
        "# Run this cell!\n",
        "\n",
        "for i in range(1, 11):\n",
        "    if i % 2 == 0:\n",
        "        print(i)"
      ],
      "metadata": {
        "id": "iKGeXpEPxE1q",
        "colab": {
          "base_uri": "https://localhost:8080/"
        },
        "outputId": "b8cecfd6-253b-4268-e62f-6ec34460e52e"
      },
      "execution_count": 18,
      "outputs": [
        {
          "output_type": "stream",
          "name": "stdout",
          "text": [
            "2\n",
            "4\n",
            "6\n",
            "8\n",
            "10\n"
          ]
        }
      ]
    },
    {
      "cell_type": "markdown",
      "source": [
        "## **🛝 Practice Playground** - Section 7\n",
        "\n",
        "In Python, the break, continue, and pass statements provide more control over the behavior of loops."
      ],
      "metadata": {
        "id": "TQ8zo53XxbAl"
      }
    },
    {
      "cell_type": "code",
      "source": [
        "# Run this cell!\n",
        "\n",
        "for num in range(10):\n",
        "    if num == 5:\n",
        "        break"
      ],
      "metadata": {
        "id": "vRq4Ox3HxEzb"
      },
      "execution_count": 22,
      "outputs": []
    },
    {
      "cell_type": "code",
      "source": [
        "# Run this cell!\n",
        "\n",
        "for num in range(10):\n",
        "    if num % 2 == 0:\n",
        "        continue\n",
        "    print(num)"
      ],
      "metadata": {
        "id": "g6DfMWNXxEvJ",
        "colab": {
          "base_uri": "https://localhost:8080/"
        },
        "outputId": "054a28f4-44a2-402e-c07e-acee2b4fc73e"
      },
      "execution_count": 20,
      "outputs": [
        {
          "output_type": "stream",
          "name": "stdout",
          "text": [
            "1\n",
            "3\n",
            "5\n",
            "7\n",
            "9\n"
          ]
        }
      ]
    },
    {
      "cell_type": "code",
      "source": [
        "# Run this cell!\n",
        "\n",
        "for num in range(10):\n",
        "    if num % 2 == 0:\n",
        "        pass\n",
        "    else:\n",
        "        print(num)"
      ],
      "metadata": {
        "id": "-QssIoNZxEtD",
        "colab": {
          "base_uri": "https://localhost:8080/"
        },
        "outputId": "ff26675c-8027-4a10-f4ba-dc4ad04e155f"
      },
      "execution_count": 23,
      "outputs": [
        {
          "output_type": "stream",
          "name": "stdout",
          "text": [
            "1\n",
            "3\n",
            "5\n",
            "7\n",
            "9\n"
          ]
        }
      ]
    },
    {
      "cell_type": "markdown",
      "source": [
        "## **🛝 Practice Playground** - Section 8\n",
        "\n",
        "While loops in Python are used for repeated execution as long as an expression (condition) is true. They are less commonly used in data analysis compared to for loops, but they are still valuable for certain tasks where the number of iterations isn't known beforehand, such as responding to user input or waiting for a specific condition to change."
      ],
      "metadata": {
        "id": "KzmPuLyYyCxD"
      }
    },
    {
      "cell_type": "code",
      "source": [
        "# Run this cell!\n",
        "\n",
        "# Starting count at 10\n",
        "count = 10\n",
        "\n",
        "# Loop will run as long as count is greater than 0\n",
        "while count > 0:\n",
        "    print(count)\n",
        "    count -= 1  # Decrement count by 1 each iteration\n",
        "\n",
        "# Prints \"Blast off!\" after exiting the loop\n",
        "print(\"Blast off!\")"
      ],
      "metadata": {
        "id": "bBCguzb3yDyw",
        "colab": {
          "base_uri": "https://localhost:8080/"
        },
        "outputId": "ce670ce3-38ec-4be9-93df-aa8c3cb8ee6a"
      },
      "execution_count": 24,
      "outputs": [
        {
          "output_type": "stream",
          "name": "stdout",
          "text": [
            "10\n",
            "9\n",
            "8\n",
            "7\n",
            "6\n",
            "5\n",
            "4\n",
            "3\n",
            "2\n",
            "1\n",
            "Blast off!\n"
          ]
        }
      ]
    },
    {
      "cell_type": "code",
      "source": [
        "# Run this cell!\n",
        "\n",
        "# Simulated sensor reading\n",
        "sensor_value = 75\n",
        "\n",
        "# Waiting for the sensor value to drop below 50\n",
        "while sensor_value >= 50:\n",
        "    print(\"Waiting for sensor value to drop below 50...\")\n",
        "    sensor_value -= 5  # Simulate sensor value change\n",
        "\n",
        "print(\"Sensor value is low enough to proceed.\")"
      ],
      "metadata": {
        "id": "b-njY96-ycpx",
        "colab": {
          "base_uri": "https://localhost:8080/"
        },
        "outputId": "81047dca-e400-4d90-e9f9-96c1b7caeb7e"
      },
      "execution_count": 25,
      "outputs": [
        {
          "output_type": "stream",
          "name": "stdout",
          "text": [
            "Waiting for sensor value to drop below 50...\n",
            "Waiting for sensor value to drop below 50...\n",
            "Waiting for sensor value to drop below 50...\n",
            "Waiting for sensor value to drop below 50...\n",
            "Waiting for sensor value to drop below 50...\n",
            "Waiting for sensor value to drop below 50...\n",
            "Sensor value is low enough to proceed.\n"
          ]
        }
      ]
    },
    {
      "cell_type": "markdown",
      "source": [
        "# **Extra Examples**"
      ],
      "metadata": {
        "id": "ztkQbOJU2QFz"
      }
    },
    {
      "cell_type": "markdown",
      "source": [
        "### 1. Print Numbers\n",
        "\n",
        "Print the numbers numbers 1 through 5."
      ],
      "metadata": {
        "id": "HPI_UtOrtjtC"
      }
    },
    {
      "cell_type": "code",
      "source": [
        "for num in range(1,6):\n",
        "  print(num)"
      ],
      "metadata": {
        "id": "ztz0JQxMtncE",
        "colab": {
          "base_uri": "https://localhost:8080/"
        },
        "outputId": "84663ef9-f1f1-49a8-c904-a33d9e07cdbe"
      },
      "execution_count": 26,
      "outputs": [
        {
          "output_type": "stream",
          "name": "stdout",
          "text": [
            "1\n",
            "2\n",
            "3\n",
            "4\n",
            "5\n"
          ]
        }
      ]
    },
    {
      "cell_type": "markdown",
      "source": [
        "### 2. Square Numbers\n",
        "\n",
        "Write a loop that prints the squares of numbers from 1 to 20 (inclusive)."
      ],
      "metadata": {
        "id": "h8I6AxB6u0N9"
      }
    },
    {
      "cell_type": "code",
      "source": [
        "for num in range(1,21):\n",
        "  print(num**2)"
      ],
      "metadata": {
        "id": "Kf83cL6mu0Ec",
        "colab": {
          "base_uri": "https://localhost:8080/"
        },
        "outputId": "ce0e13fd-ad01-43ad-cefc-cbcba91c614c"
      },
      "execution_count": 27,
      "outputs": [
        {
          "output_type": "stream",
          "name": "stdout",
          "text": [
            "1\n",
            "4\n",
            "9\n",
            "16\n",
            "25\n",
            "36\n",
            "49\n",
            "64\n",
            "81\n",
            "100\n",
            "121\n",
            "144\n",
            "169\n",
            "196\n",
            "225\n",
            "256\n",
            "289\n",
            "324\n",
            "361\n",
            "400\n"
          ]
        }
      ]
    },
    {
      "cell_type": "markdown",
      "source": [
        "### 3. Even Numbers\n",
        "\n",
        "Write a loop that prints all of the EVEN numbers between 10 and 20 (inclusive). There are two good answers to this!"
      ],
      "metadata": {
        "id": "YLv3BBgmtp68"
      }
    },
    {
      "cell_type": "code",
      "source": [
        "# Option 1\n",
        "for n in range(10, 21):\n",
        "    if n % 2 == 0:\n",
        "        print(n)"
      ],
      "metadata": {
        "id": "IlN0dEfhtqkm",
        "colab": {
          "base_uri": "https://localhost:8080/"
        },
        "outputId": "e24f42cc-e8a9-4f6f-b946-d600d6311a38"
      },
      "execution_count": 28,
      "outputs": [
        {
          "output_type": "stream",
          "name": "stdout",
          "text": [
            "10\n",
            "12\n",
            "14\n",
            "16\n",
            "18\n",
            "20\n"
          ]
        }
      ]
    },
    {
      "cell_type": "code",
      "source": [
        "# Option 2\n",
        "for n in range(10, 21, 2):\n",
        "    print(n)"
      ],
      "metadata": {
        "id": "CWdmA0OIuAbE",
        "colab": {
          "base_uri": "https://localhost:8080/"
        },
        "outputId": "16f3725b-2dc0-446f-f556-0a31efded5b8"
      },
      "execution_count": 29,
      "outputs": [
        {
          "output_type": "stream",
          "name": "stdout",
          "text": [
            "10\n",
            "12\n",
            "14\n",
            "16\n",
            "18\n",
            "20\n"
          ]
        }
      ]
    },
    {
      "cell_type": "markdown",
      "source": [
        "### 4. Print Patterns\n",
        "Write a loop that prints the following pattern:\n",
        "\n",
        "```python\n",
        "*\n",
        "**\n",
        "***\n",
        "****\n",
        "*****\n",
        "```"
      ],
      "metadata": {
        "id": "ufEW_Uc629nm"
      }
    },
    {
      "cell_type": "code",
      "source": [
        "for i in range(1,6):\n",
        "  print('*' * i)"
      ],
      "metadata": {
        "id": "_gyhnEam29cW",
        "colab": {
          "base_uri": "https://localhost:8080/"
        },
        "outputId": "cceea672-522c-4e77-cb3b-c39c74b7a347"
      },
      "execution_count": 30,
      "outputs": [
        {
          "output_type": "stream",
          "name": "stdout",
          "text": [
            "*\n",
            "**\n",
            "***\n",
            "****\n",
            "*****\n"
          ]
        }
      ]
    },
    {
      "cell_type": "markdown",
      "metadata": {
        "id": "tHDGkWp4fFXn"
      },
      "source": [
        "### 4. Sum of Numbers\n",
        "\n",
        "Write a loop that calculates and prints the sum of numbers from 1 to 10."
      ]
    },
    {
      "cell_type": "code",
      "execution_count": 31,
      "metadata": {
        "id": "10K9rCCNfFXo",
        "colab": {
          "base_uri": "https://localhost:8080/"
        },
        "outputId": "6512b659-344a-4353-82e0-79b68fc9ee3d"
      },
      "outputs": [
        {
          "output_type": "execute_result",
          "data": {
            "text/plain": [
              "55"
            ]
          },
          "metadata": {},
          "execution_count": 31
        }
      ],
      "source": [
        "my_sum = 0\n",
        "\n",
        "for num in range(1,11):\n",
        "  my_sum += num\n",
        "\n",
        "my_sum"
      ]
    },
    {
      "cell_type": "markdown",
      "source": [
        "### 5. Count the letter 'A'\n",
        "\n",
        "Write a loop that counts the number of times the letter 'A' (either upper or lowercase!) is present in a sentence."
      ],
      "metadata": {
        "id": "7ng7iQnjudA1"
      }
    },
    {
      "cell_type": "code",
      "execution_count": 32,
      "metadata": {
        "id": "tAh-HJ0SfFXo",
        "colab": {
          "base_uri": "https://localhost:8080/"
        },
        "outputId": "0e0dcf55-9ae4-4657-b987-49810877dfc1"
      },
      "outputs": [
        {
          "output_type": "execute_result",
          "data": {
            "text/plain": [
              "6"
            ]
          },
          "metadata": {},
          "execution_count": 32
        }
      ],
      "source": [
        "sentence = 'An apple a day keeps the doctor away!'\n",
        "\n",
        "my_count = 0\n",
        "for letter in sentence:\n",
        "  if letter.lower() == 'a':\n",
        "    my_count += 1\n",
        "\n",
        "my_count"
      ]
    },
    {
      "cell_type": "markdown",
      "metadata": {
        "id": "nPh3hPq1hTZB"
      },
      "source": [
        "## Aside: Strange Loops!\n",
        "You can also loop through more exotic objects that take advantage of _tuple unpacking!_ We won't see this very often, but when we do, it'll be really handy."
      ]
    },
    {
      "cell_type": "code",
      "execution_count": 33,
      "metadata": {
        "id": "bw4TU8xahTZB",
        "colab": {
          "base_uri": "https://localhost:8080/"
        },
        "outputId": "6f65b147-3e1b-408d-cdb5-95e0fecad4ef"
      },
      "outputs": [
        {
          "output_type": "stream",
          "name": "stdout",
          "text": [
            "Zebra is a type of mammal.\n",
            "Tuna is a type of fish.\n",
            "Python is a type of reptile.\n",
            "Panda is a type of mammal.\n",
            "Frog is a type of amphibian.\n"
          ]
        }
      ],
      "source": [
        "animals = [\n",
        "    ('zebra', 'mammal'),\n",
        "    ('tuna', 'fish'),\n",
        "    ('python', 'reptile'),\n",
        "    ('panda', 'mammal'),\n",
        "    ('frog', 'amphibian')\n",
        "]\n",
        "\n",
        "for animal, aclass in animals:\n",
        "    print(f'{animal.title()} is a type of {aclass}.')"
      ]
    }
  ],
  "metadata": {
    "anaconda-cloud": {},
    "colab": {
      "provenance": [],
      "include_colab_link": true
    },
    "kernelspec": {
      "display_name": "Python 3 (ipykernel)",
      "language": "python",
      "name": "python3"
    },
    "language_info": {
      "codemirror_mode": {
        "name": "ipython",
        "version": 3
      },
      "file_extension": ".py",
      "mimetype": "text/x-python",
      "name": "python",
      "nbconvert_exporter": "python",
      "pygments_lexer": "ipython3",
      "version": "3.11.7"
    }
  },
  "nbformat": 4,
  "nbformat_minor": 0
}