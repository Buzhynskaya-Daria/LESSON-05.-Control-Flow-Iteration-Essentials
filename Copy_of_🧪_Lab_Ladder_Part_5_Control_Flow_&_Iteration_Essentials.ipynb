{
  "cells": [
    {
      "cell_type": "markdown",
      "metadata": {
        "id": "view-in-github",
        "colab_type": "text"
      },
      "source": [
        "<a href=\"https://colab.research.google.com/github/Buzhynskaya-Daria/LESSON-05.-Control-Flow-Iteration-Essentials/blob/main/Copy_of_%F0%9F%A7%AA_Lab_Ladder_Part_5_Control_Flow_%26_Iteration_Essentials.ipynb\" target=\"_parent\"><img src=\"https://colab.research.google.com/assets/colab-badge.svg\" alt=\"Open In Colab\"/></a>"
      ]
    },
    {
      "cell_type": "markdown",
      "metadata": {
        "id": "1xbyIYOxEjtO"
      },
      "source": [
        "<div>\n",
        "<img src=\"https://coursereport-s3-production.global.ssl.fastly.net/uploads/school/logo/219/original/CT_LOGO_NEW.jpg\" width=60>\n",
        "</div>\n",
        "\n",
        "# **Python Ladder Challenges - Control Flow & Iteration Essentials**"
      ]
    },
    {
      "cell_type": "markdown",
      "metadata": {
        "id": "KnVBAM15EjtU"
      },
      "source": [
        "# Climb the Ladder!\n",
        "Welcome to Part 5 of our ladder! Our class moves quickly! Sometimes, it feels like we make leaps in logic that are a bit too big. Learn Python _slowly_, by doing many, many examples. Problems in this notebook start out easy and progressively get harder, so that the next rung of the Python ladder is always within reach."
      ]
    },
    {
      "cell_type": "markdown",
      "metadata": {
        "id": "FDM44C8SE9p7"
      },
      "source": [
        "# Section VIII: Conditionals and Loops"
      ]
    },
    {
      "cell_type": "markdown",
      "metadata": {
        "id": "uKCzo7IXE9p7"
      },
      "source": [
        "52) Print out the numbers 1 through 20."
      ]
    },
    {
      "cell_type": "code",
      "execution_count": 1,
      "metadata": {
        "id": "roelWZmUE9p7",
        "colab": {
          "base_uri": "https://localhost:8080/"
        },
        "outputId": "949a5e7d-7383-4028-9d57-2dbdb2927be5"
      },
      "outputs": [
        {
          "output_type": "stream",
          "name": "stdout",
          "text": [
            "[1, 2, 3, 4, 5, 6, 7, 8, 9, 10, 11, 12, 13, 14, 15, 16, 17, 18, 19, 20]\n"
          ]
        }
      ],
      "source": [
        "print(list(range(1,21)))"
      ]
    },
    {
      "cell_type": "markdown",
      "metadata": {
        "id": "2eLEOKAZE9p8"
      },
      "source": [
        "53) Print out the odd numbers between 1 and 20 by using the third paramter to the `range()` function."
      ]
    },
    {
      "cell_type": "code",
      "execution_count": 2,
      "metadata": {
        "id": "5sDKWzwsE9p8",
        "colab": {
          "base_uri": "https://localhost:8080/"
        },
        "outputId": "378c12fc-eac2-4264-a306-db2729d81daa"
      },
      "outputs": [
        {
          "output_type": "stream",
          "name": "stdout",
          "text": [
            "[1, 3, 5, 7, 9, 11, 13, 15, 17, 19]\n"
          ]
        }
      ],
      "source": [
        "if list(range(1,21,2)):\n",
        "    print(list(range(1,21,2)))"
      ]
    },
    {
      "cell_type": "markdown",
      "metadata": {
        "id": "uOOCnvtyE9p8"
      },
      "source": [
        "54) Print out the odd numbers between 1 and 20 by checking if the number is even before printing."
      ]
    },
    {
      "cell_type": "code",
      "execution_count": 4,
      "metadata": {
        "id": "VYNZ71akE9p9",
        "colab": {
          "base_uri": "https://localhost:8080/"
        },
        "outputId": "ab6c7491-1872-4dd3-eaf1-98c254f28b2b"
      },
      "outputs": [
        {
          "output_type": "stream",
          "name": "stdout",
          "text": [
            "1\n",
            "3\n",
            "5\n",
            "7\n",
            "9\n",
            "11\n",
            "13\n",
            "15\n",
            "17\n",
            "19\n"
          ]
        }
      ],
      "source": [
        "for i in range(1,21):\n",
        "    if i % 2 == 1:\n",
        "        print(i)"
      ]
    },
    {
      "cell_type": "markdown",
      "metadata": {
        "id": "VgrjEghgE9p9"
      },
      "source": [
        "55) What is the sum of the first 100 integers? Hint: Create a variable `total` equal to zero, and increment `total` inside a loop."
      ]
    },
    {
      "cell_type": "code",
      "execution_count": 7,
      "metadata": {
        "id": "SkwVYvI2E9p-",
        "colab": {
          "base_uri": "https://localhost:8080/"
        },
        "outputId": "427e19c1-068c-45fc-93b0-7a602ebcf7b7"
      },
      "outputs": [
        {
          "output_type": "stream",
          "name": "stdout",
          "text": [
            "5050\n"
          ]
        }
      ],
      "source": [
        "total = 0\n",
        "for i in range(1,101):\n",
        "    total += i\n",
        "print(total)"
      ]
    },
    {
      "cell_type": "markdown",
      "metadata": {
        "id": "8gCGcCapE9p-"
      },
      "source": [
        "56) For each friend in your `friends` list, print `'PERSON IS AWESOME!'` in all caps, where `PERSON` is of course replaced with your friend's name."
      ]
    },
    {
      "cell_type": "code",
      "execution_count": 8,
      "metadata": {
        "id": "3Ezy3JykE9p-"
      },
      "outputs": [],
      "source": [
        "friends = [\"Alice\", \"Bob\", \"Charlie\", \"Debbie\"]"
      ]
    },
    {
      "cell_type": "code",
      "execution_count": 9,
      "metadata": {
        "id": "GkOHp8TuE9qA",
        "colab": {
          "base_uri": "https://localhost:8080/"
        },
        "outputId": "7f323f7c-c69e-4c9f-d1c3-f8ea2a8efa7a"
      },
      "outputs": [
        {
          "output_type": "stream",
          "name": "stdout",
          "text": [
            "ALICE IS AWESOME!\n",
            "BOB IS AWESOME!\n",
            "CHARLIE IS AWESOME!\n",
            "DEBBIE IS AWESOME!\n"
          ]
        }
      ],
      "source": [
        "if friends:\n",
        "    for friend in friends:\n",
        "        print(f\"{friend.upper()} IS AWESOME!\")"
      ]
    },
    {
      "cell_type": "markdown",
      "metadata": {
        "id": "UMp_VLP7E9qA"
      },
      "source": [
        "57) Similar to the last problem, print `'PERSON IS AWESOME!'` for each friend in your friends list _only if their name ends in a vowel_. Otherwise, print `\"person is ok...\"` (all lowercase)."
      ]
    },
    {
      "cell_type": "code",
      "execution_count": 10,
      "metadata": {
        "id": "UGT14E0cE9qA",
        "colab": {
          "base_uri": "https://localhost:8080/"
        },
        "outputId": "6112e21e-3a6d-4252-e8f0-f9fc364f7934"
      },
      "outputs": [
        {
          "output_type": "stream",
          "name": "stdout",
          "text": [
            "ALICE IS AWESOME!\n",
            "bob is ok...\n",
            "CHARLIE IS AWESOME!\n",
            "DEBBIE IS AWESOME!\n"
          ]
        }
      ],
      "source": [
        "if friends:\n",
        "    for friend in friends:\n",
        "        if friend[-1].lower() in \"aeiou\":\n",
        "            print(f\"{friend.upper()} IS AWESOME!\")\n",
        "        else:\n",
        "            print(f\"{friend.lower()} is ok...\")"
      ]
    },
    {
      "cell_type": "markdown",
      "metadata": {
        "id": "DBbHDIOvE9qB"
      },
      "source": [
        "58) For each number between 1 and 30 (inclusive), if a number is divisible by 3, print `'Fizz'`. Otherwise, just print the number."
      ]
    },
    {
      "cell_type": "code",
      "execution_count": 11,
      "metadata": {
        "id": "JOJffuQ5E9qB",
        "colab": {
          "base_uri": "https://localhost:8080/"
        },
        "outputId": "fad4aaeb-edf1-4334-902c-3dd3d66f17ef"
      },
      "outputs": [
        {
          "output_type": "stream",
          "name": "stdout",
          "text": [
            "1\n",
            "2\n",
            "Fizz\n",
            "4\n",
            "5\n",
            "Fizz\n",
            "7\n",
            "8\n",
            "Fizz\n",
            "10\n",
            "11\n",
            "Fizz\n",
            "13\n",
            "14\n",
            "Fizz\n",
            "16\n",
            "17\n",
            "Fizz\n",
            "19\n",
            "20\n",
            "Fizz\n",
            "22\n",
            "23\n",
            "Fizz\n",
            "25\n",
            "26\n",
            "Fizz\n",
            "28\n",
            "29\n",
            "Fizz\n"
          ]
        }
      ],
      "source": [
        "for i in range(1,31):\n",
        "    if i % 3 == 0:\n",
        "        print(\"Fizz\")\n",
        "    else:\n",
        "        print(i)"
      ]
    },
    {
      "cell_type": "markdown",
      "metadata": {
        "id": "D3LWEpqSE9qB"
      },
      "source": [
        "59) For each number between 1 and 30 (inclusive), if a number is divisible by 5, print `'Buzz'`. Otherwise, just print the number."
      ]
    },
    {
      "cell_type": "code",
      "execution_count": 12,
      "metadata": {
        "id": "hMp89P4yE9qB",
        "colab": {
          "base_uri": "https://localhost:8080/"
        },
        "outputId": "79961620-7349-472f-aaa6-7c78f1e56e11"
      },
      "outputs": [
        {
          "output_type": "stream",
          "name": "stdout",
          "text": [
            "1\n",
            "2\n",
            "3\n",
            "4\n",
            "Buzz\n",
            "6\n",
            "7\n",
            "8\n",
            "9\n",
            "Buzz\n",
            "11\n",
            "12\n",
            "13\n",
            "14\n",
            "Buzz\n",
            "16\n",
            "17\n",
            "18\n",
            "19\n",
            "Buzz\n",
            "21\n",
            "22\n",
            "23\n",
            "24\n",
            "Buzz\n",
            "26\n",
            "27\n",
            "28\n",
            "29\n",
            "Buzz\n"
          ]
        }
      ],
      "source": [
        "if list(range(1,31,5)):\n",
        "    for i in range(1,31):\n",
        "        if i % 5 == 0:\n",
        "            print(\"Buzz\")\n",
        "        else:\n",
        "            print(i)"
      ]
    },
    {
      "cell_type": "markdown",
      "metadata": {
        "id": "1vuAgeMFE9qC"
      },
      "source": [
        "60) **FIZZBUZZ!** For each number between 1 and 30 (inclusive),\n",
        "* if a number is divisible by 3, print `'Fizz'`\n",
        "* if a number is divisible by 5, print `'Buzz'`\n",
        "* if a number is divisible by both 3 and 5, instead print `'FizzBuzz'`,\n",
        "* otherwise, just print the number\n",
        "\n",
        "This problem is the famous \"Fizzbuzz\" problem - and is a very common interview coding challenge! If you can do this without help, you're making awesome progress! Well done!"
      ]
    },
    {
      "cell_type": "code",
      "source": [
        "if list(range(1,31)):\n",
        "    for i in range(1,31):\n",
        "        if i % 3 == 0 and i % 5 == 0:\n",
        "            print(\"FizzBuzz\")"
      ],
      "metadata": {
        "id": "q6J6s38pVjeV",
        "colab": {
          "base_uri": "https://localhost:8080/"
        },
        "outputId": "093e6fd9-c9d0-450c-d9c3-e1a2201053f0"
      },
      "execution_count": 13,
      "outputs": [
        {
          "output_type": "stream",
          "name": "stdout",
          "text": [
            "FizzBuzz\n",
            "FizzBuzz\n"
          ]
        }
      ]
    },
    {
      "cell_type": "markdown",
      "metadata": {
        "id": "5koF7xaiE9qC"
      },
      "source": [
        "61) Define a string and call it `sentence`!"
      ]
    },
    {
      "cell_type": "code",
      "execution_count": 14,
      "metadata": {
        "id": "yOPHcv3AE9qC"
      },
      "outputs": [],
      "source": [
        "sentence = \"This is a sentence.\""
      ]
    },
    {
      "cell_type": "markdown",
      "metadata": {
        "id": "VKIdBzobE9qC"
      },
      "source": [
        "62) Count the number of vowels in `sentence` (no, y is not a vowel).\n",
        "* _Hint:_ What happens if you loop through a string?"
      ]
    },
    {
      "cell_type": "code",
      "execution_count": 15,
      "metadata": {
        "id": "-ObO9xqdE9qD",
        "colab": {
          "base_uri": "https://localhost:8080/"
        },
        "outputId": "3c4190d6-c489-4483-fc43-cc2cc9dcbce1"
      },
      "outputs": [
        {
          "output_type": "stream",
          "name": "stdout",
          "text": [
            "6\n"
          ]
        }
      ],
      "source": [
        "if sentence:\n",
        "    count = 0\n",
        "    for char in sentence:\n",
        "        if char.lower() in \"aeiou\":\n",
        "            count += 1\n",
        "    print(count)"
      ]
    },
    {
      "cell_type": "markdown",
      "metadata": {
        "id": "aoSiZrx8E9qD"
      },
      "source": [
        "63) Define a variable `sentence_rm` that is equal to `sentence` with all vowels removed.\n",
        "* _Hint:_ This is a tough one. Start out with an empty string and concatenate all of the consonants to it inside a loop."
      ]
    },
    {
      "cell_type": "code",
      "execution_count": 16,
      "metadata": {
        "id": "LsR8lshzE9qD",
        "colab": {
          "base_uri": "https://localhost:8080/"
        },
        "outputId": "7508b9cd-bc88-48b7-bc0d-7b892a5b5b23"
      },
      "outputs": [
        {
          "output_type": "stream",
          "name": "stdout",
          "text": [
            "Ths s  sntnc.\n"
          ]
        }
      ],
      "source": [
        "sentence_rm = \"\"\n",
        "if sentence:\n",
        "    for char in sentence:\n",
        "        if char.lower() not in \"aeiou\":\n",
        "            sentence_rm += char\n",
        "print(sentence_rm)"
      ]
    },
    {
      "cell_type": "markdown",
      "metadata": {
        "id": "RM7ZSLllE9qD"
      },
      "source": [
        "64) A palindromic word reads the same both ways. For example, “civic,” “madam,” “radar,” and “deified” are all palindromes. Write an `if` statement to test whether or not a word is palindromic. Bonus if you can make this case insensitive."
      ]
    },
    {
      "cell_type": "code",
      "execution_count": 18,
      "metadata": {
        "id": "7nreFJ_pE9qD",
        "colab": {
          "base_uri": "https://localhost:8080/"
        },
        "outputId": "0c28229b-2d4e-4e9c-b790-490ab9c6aae6"
      },
      "outputs": [
        {
          "output_type": "stream",
          "name": "stdout",
          "text": [
            "The word is a palindrome.\n"
          ]
        }
      ],
      "source": [
        "word = \"Madam\"\n",
        "word_lower = word.lower()\n",
        "if word_lower == word_lower[::-1]:\n",
        "    print(\"The word is a palindrome.\")\n",
        "else:\n",
        "    print(\"The word is not a palindrome.\")"
      ]
    },
    {
      "cell_type": "code",
      "source": [
        "word = \"Macadamia\"\n",
        "\n",
        "word_lower = word.lower()\n",
        "if word_lower == word_lower[::-1]:\n",
        "    print(\"The word is a palindrome.\")\n",
        "else:\n",
        "    print(\"The word is not a palindrome.\")"
      ],
      "metadata": {
        "colab": {
          "base_uri": "https://localhost:8080/"
        },
        "id": "xXbbzYxf2H8g",
        "outputId": "2844d0b2-8686-43a6-d158-f07109737557"
      },
      "execution_count": 19,
      "outputs": [
        {
          "output_type": "stream",
          "name": "stdout",
          "text": [
            "The word is not a palindrome.\n"
          ]
        }
      ]
    },
    {
      "cell_type": "code",
      "source": [],
      "metadata": {
        "id": "SCv3fPOI2YTg"
      },
      "execution_count": null,
      "outputs": []
    }
  ],
  "metadata": {
    "colab": {
      "provenance": [],
      "include_colab_link": true
    },
    "kernelspec": {
      "display_name": "Python 3",
      "language": "python",
      "name": "python3"
    },
    "language_info": {
      "codemirror_mode": {
        "name": "ipython",
        "version": 3
      },
      "file_extension": ".py",
      "mimetype": "text/x-python",
      "name": "python",
      "nbconvert_exporter": "python",
      "pygments_lexer": "ipython3",
      "version": "3.8.3"
    }
  },
  "nbformat": 4,
  "nbformat_minor": 0
}